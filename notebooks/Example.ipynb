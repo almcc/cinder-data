{
 "cells": [
  {
   "cell_type": "code",
   "execution_count": 2,
   "metadata": {},
   "outputs": [],
   "source": [
    "import logging\n",
    "logging.basicConfig(level=logging.INFO)\n",
    "\n",
    "logger = logging.getLogger('cinder_data')\n",
    "logger.setLevel(logging.DEBUG)\n",
    "%load_ext autoreload"
   ]
  },
  {
   "cell_type": "code",
   "execution_count": 12,
   "metadata": {
    "scrolled": true
   },
   "outputs": [
    {
     "name": "stderr",
     "output_type": "stream",
     "text": [
      "DEBUG:cinder_data.store:Getting JSON: GET http://localhost:8000/api/v1/cars/1\n"
     ]
    },
    {
     "data": {
      "text/plain": [
       "'Model T'"
      ]
     },
     "execution_count": 12,
     "metadata": {},
     "output_type": "execute_result"
    }
   ],
   "source": [
    "%autoreload 2\n",
    "\n",
    "\n",
    "from cinder_data.model import DjangoModel\n",
    "from schematics.types import StringType, IntType\n",
    "\n",
    "\n",
    "class Manufacturer(DjangoModel):\n",
    "    name = StringType()\n",
    "\n",
    "class Car(DjangoModel):\n",
    "    name = StringType()\n",
    "    year = IntType()\n",
    "    \n",
    "from cinder_data.store import Store\n",
    "from cinder_data.cache import MemoryCache\n",
    "\n",
    "\n",
    "cache = MemoryCache()\n",
    "store = Store('http://localhost:8000', 'api/v1', cache=cache)\n",
    "\n",
    "store.find_record(Car, 1).name"
   ]
  },
  {
   "cell_type": "code",
   "execution_count": null,
   "metadata": {},
   "outputs": [],
   "source": []
  },
  {
   "cell_type": "code",
   "execution_count": null,
   "metadata": {},
   "outputs": [],
   "source": []
  }
 ],
 "metadata": {
  "kernelspec": {
   "display_name": "Python 3",
   "language": "python",
   "name": "python3"
  },
  "language_info": {
   "codemirror_mode": {
    "name": "ipython",
    "version": 3
   },
   "file_extension": ".py",
   "mimetype": "text/x-python",
   "name": "python",
   "nbconvert_exporter": "python",
   "pygments_lexer": "ipython3",
   "version": "3.6.1"
  }
 },
 "nbformat": 4,
 "nbformat_minor": 2
}
